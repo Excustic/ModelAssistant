{
  "cells": [
    {
      "cell_type": "markdown",
      "metadata": {
        "id": "mNESTCLfvSrY"
      },
      "source": [
        "# Welcom to EdgeLab for Google Colab Training Example 🚀\n",
        "\n",
        "In this tutorial, we will demonstrate how to use [EdgeLab](https://github.com/Seeed-Studio/EdgeLab) and Colab to train a PFLD model for meter reading ⏱️.\n",
        "\n",
        "For more details of PFLD model or application scenarios, please refer to [EdgeLab Documentation](https://seeed-studio.github.io/EdgeLab/tutorials/training/pfld).\n",
        "\n",
        "**Tips: Since model training consumes a lot of computational resources, we recommend that you run this notebook on [Colab's GPU instances](https://research.google.com/colaboratory/faq.html#gpu-availability).**"
      ]
    },
    {
      "cell_type": "markdown",
      "metadata": {
        "id": "PRGi8-2jvxzR"
      },
      "source": [
        "## Setup EdgeLab"
      ]
    },
    {
      "cell_type": "markdown",
      "source": [
        "**Step 0:** Clone the EdgeLab source code from [EdgeLab GitHub repository](https://github.com/Seeed-Studio/EdgeLab), and enter the EdgeLab project directory."
      ],
      "metadata": {
        "id": "Ikzx6C6wrpos"
      }
    },
    {
      "cell_type": "code",
      "execution_count": null,
      "metadata": {
        "id": "F5pMIwXuvPpG"
      },
      "outputs": [],
      "source": [
        "!git clone https://github.com/Seeed-Studio/EdgeLab.git -b 'lab2.0' # currently we're using experimental 2.0 version branch"
      ]
    },
    {
      "cell_type": "code",
      "execution_count": null,
      "metadata": {
        "id": "-4H83YK8waNA"
      },
      "outputs": [],
      "source": [
        "%cd /content/EdgeLab"
      ]
    },
    {
      "cell_type": "markdown",
      "source": [
        "**Step 1:** Use `python3.8` as default python in colab, then install corresponding version python and pip package."
      ],
      "metadata": {
        "id": "LWAE--J9sAmW"
      }
    },
    {
      "cell_type": "code",
      "execution_count": null,
      "metadata": {
        "id": "STOKRHwXs70f"
      },
      "outputs": [],
      "source": [
        "%env PYTHON_EXEC=python3.8"
      ]
    },
    {
      "cell_type": "code",
      "execution_count": null,
      "metadata": {
        "id": "xF4nReUbqbUA"
      },
      "outputs": [],
      "source": [
        "!sudo apt-get update\n",
        "!sudo apt-get install ${PYTHON_EXEC}-dev python3-pip -y"
      ]
    },
    {
      "cell_type": "markdown",
      "source": [
        "**Step 2:** Use `scripts/setup_colab.sh` to automatically setup EdgeLab dependencies."
      ],
      "metadata": {
        "id": "zX3aW3Rys1Zr"
      }
    },
    {
      "cell_type": "code",
      "execution_count": null,
      "metadata": {
        "id": "k1HIXVgCzrCz"
      },
      "outputs": [],
      "source": [
        "!chmod +x scripts/setup_colab.sh\n",
        "!scripts/setup_colab.sh $(which ${PYTHON_EXEC})"
      ]
    },
    {
      "cell_type": "markdown",
      "metadata": {
        "id": "v47-pxMe2DP1"
      },
      "source": [
        "## Download Custom Meter Datasets"
      ]
    },
    {
      "cell_type": "markdown",
      "source": [
        "First, download and unpack our custom meter datasets.\n",
        "\n",
        "For more available datasets, please refer to [EdgeLab Documentation - Datasets](https://seeed-studio.github.io/EdgeLab/tutorials/datasets)."
      ],
      "metadata": {
        "id": "90NL7Kg-vxy7"
      }
    },
    {
      "cell_type": "code",
      "execution_count": null,
      "metadata": {
        "id": "oSJZdF4l2JEe"
      },
      "outputs": [],
      "source": [
        "!wget https://files.seeedstudio.com/wiki/Edgelab/meter.zip -P datasets/\n",
        "!unzip datasets/meter.zip -d datasets/"
      ]
    },
    {
      "cell_type": "markdown",
      "metadata": {
        "id": "2HMAOOWR2sf6"
      },
      "source": [
        "## Train the Model"
      ]
    },
    {
      "cell_type": "markdown",
      "metadata": {
        "id": "zmWPp53tcLpB"
      },
      "source": [
        "### Examine the PFLD config file\n",
        "\n",
        "The config we use for train is located at `configs/pfld/pfld_mv2n_112.py`.\n",
        "\n",
        "For more config details, please refer to [EdgeLab Documentation - Config](https://seeed-studio.github.io/EdgeLab/tutorials/config)."
      ]
    },
    {
      "cell_type": "code",
      "source": [
        "!cat configs/pfld/pfld_mv2n_112.py"
      ],
      "metadata": {
        "id": "J7TrWv8_wjXY"
      },
      "execution_count": null,
      "outputs": []
    },
    {
      "cell_type": "markdown",
      "metadata": {
        "id": "Y9sSOwrZdaLo"
      },
      "source": [
        "### Train the model using default config\n",
        "\n",
        "Then, train PFLD model using default config, note here we need to override the config by 2 parameters:\n",
        "\n",
        "- `data_root` - the datasets path, which located at path `datasets/meter`\n",
        "\n",
        "- `epochs`- the train epochs, we use `50` to reduce the training time\n",
        "\n",
        "For more training details, please refer to [EdgeLab Documentation - Train PFLD Model](https://seeed-studio.github.io/EdgeLab/tutorials/training/pfld)."
      ]
    },
    {
      "cell_type": "code",
      "execution_count": null,
      "metadata": {
        "id": "zUgKXe2s2wto"
      },
      "outputs": [],
      "source": [
        "!${PYTHON_EXEC} tools/train.py \\\n",
        "  pose \\\n",
        "  configs/pfld/pfld_mv2n_112.py \\\n",
        "  --cfg-options \\\n",
        "    epochs=10 \\\n",
        "    data_root='datasets/meter'"
      ]
    },
    {
      "cell_type": "markdown",
      "source": [
        "The output directory in the training process would be look like this:"
      ],
      "metadata": {
        "id": "tGl9VBZavSmM"
      }
    },
    {
      "cell_type": "code",
      "source": [
        "!ls -alh work_dirs/pfld_mv2n_112"
      ],
      "metadata": {
        "id": "Ff8MtMaSu8Ij"
      },
      "execution_count": null,
      "outputs": []
    },
    {
      "cell_type": "markdown",
      "source": [
        "We could inspect the latest model weight path by this command:"
      ],
      "metadata": {
        "id": "m4Y6DM16vgLF"
      }
    },
    {
      "cell_type": "code",
      "source": [
        "!echo \"Latest model weights path: $(cat work_dirs/pfld_mv2n_112/last_checkpoint)\""
      ],
      "metadata": {
        "id": "RMf9sHP2vNzW"
      },
      "execution_count": null,
      "outputs": []
    },
    {
      "cell_type": "markdown",
      "source": [
        "### Validate the Model\n",
        "\n",
        "We recommend you to validate the model with the latest weight after training using the `tool/test.py` script."
      ],
      "metadata": {
        "id": "G7KqGi2OxnaM"
      }
    },
    {
      "cell_type": "code",
      "source": [
        "!${PYTHON_EXEC} tools/test.py \\\n",
        "    pose \\\n",
        "    configs/pfld/pfld_mv2n_112.py \\\n",
        "    \"$(cat work_dirs/pfld_mv2n_112/last_checkpoint)\" \\\n",
        "    --dump work_dirs/pfld_mv2n_112/last_checkpoint.pkl \\\n",
        "    --cfg-options \\\n",
        "        data_root='datasets/meter'"
      ],
      "metadata": {
        "id": "v5SckZpKx21c"
      },
      "execution_count": null,
      "outputs": []
    },
    {
      "cell_type": "code",
      "source": [
        "import pickle\n",
        "\n",
        "with open('work_dirs/pfld_mv2n_112/last_checkpoint.pkl', 'rb') as f:\n",
        "    data = pickle.load(f)\n",
        "    for k in data.keys():\n",
        "      print(f'{k}: {data[k]:.5f}')"
      ],
      "metadata": {
        "id": "5vk0o2HAyaz7"
      },
      "execution_count": null,
      "outputs": []
    },
    {
      "cell_type": "markdown",
      "metadata": {
        "id": "5np32KYq8JL4"
      },
      "source": [
        "## Optimize PFLD Model and Export"
      ]
    },
    {
      "cell_type": "markdown",
      "metadata": {
        "id": "QF9ObhTrjwI2"
      },
      "source": [
        "### Export PFLD PyTorch model to TFLite model\n",
        "\n",
        "Here we're using `tools/torch2tflite.py` to convert and export the latest weights to a TFLite model at a INT8 precision for inference."
      ]
    },
    {
      "cell_type": "code",
      "execution_count": null,
      "metadata": {
        "id": "a50cBz7P8TP-"
      },
      "outputs": [],
      "source": [
        "!${PYTHON_EXEC} tools/torch2tflite.py \\\n",
        "  configs/pfld/pfld_mv2n_112.py \\\n",
        "  --checkpoint $(cat work_dirs/pfld_mv2n_112/last_checkpoint) \\\n",
        "  --type int8 \\\n",
        "  --cfg-options \\\n",
        "    data_root='datasets/meter'"
      ]
    },
    {
      "cell_type": "markdown",
      "source": [
        "## Deploy to Grove Vision AI\n",
        "\n",
        "This example is a tutorial for deploying the models from [EdgeLab](https://github.com/Seeed-Studio/Edgelab/) to Grove - Vision AI module, based on the [Synopsys GUN Toolchain](https://github.com/foss-for-synopsys-dwc-arc-processors/toolchain) and [Tensorflow Lite Micro](https://github.com/tensorflow/tflite-micro) implementations.\n",
        "\n",
        "For more details, please refer to [EdgeLab Documentation - Example - Grove - Deploy](https://seeed-studio.github.io/EdgeLab/examples/grove/deploy#compile-and-deploy)."
      ],
      "metadata": {
        "id": "akUdGWE-1Z-8"
      }
    },
    {
      "cell_type": "markdown",
      "source": [
        "### Download and Setup Build Tool Chian"
      ],
      "metadata": {
        "id": "1huhlfmt3np4"
      }
    },
    {
      "cell_type": "code",
      "source": [
        "!wget https://github.com/foss-for-synopsys-dwc-arc-processors/toolchain/releases/download/arc-2020.09-release/arc_gnu_2020.09_prebuilt_elf32_le_linux_install.tar.gz -P ~/"
      ],
      "metadata": {
        "id": "7hIBg6T73Ro3"
      },
      "execution_count": null,
      "outputs": []
    },
    {
      "cell_type": "code",
      "source": [
        "!tar -zxf ~/arc_gnu_2020.09_prebuilt_elf32_le_linux_install.tar.gz --directory ~/"
      ],
      "metadata": {
        "id": "HXrWQwVZ5I5O"
      },
      "execution_count": null,
      "outputs": []
    },
    {
      "cell_type": "code",
      "source": [
        "SYSTEM_PATH = %env PATH\n",
        "SYSTEM_PATH = SYSTEM_PATH.replace('\"', '')\n",
        "SYSTEM_HOME = %env HOME\n",
        "SYSTEM_HOME = SYSTEM_HOME.replace('\"', '')\n",
        "SYSTEM_PATH = f'{SYSTEM_HOME}/arc_gnu_2020.09_prebuilt_elf32_le_linux_install/bin:{SYSTEM_PATH}'\n",
        "%set_env PATH={SYSTEM_PATH}"
      ],
      "metadata": {
        "id": "WDBzyjFL7RHN"
      },
      "execution_count": null,
      "outputs": []
    },
    {
      "cell_type": "markdown",
      "source": [
        "### Clone and Setup Grove Vision AI SDK"
      ],
      "metadata": {
        "id": "ZMSi7Ie--O1h"
      }
    },
    {
      "cell_type": "code",
      "source": [
        "!git clone https://github.com/Seeed-Studio/edgelab-example-vision-ai example/grove"
      ],
      "metadata": {
        "id": "vD6cIBo9-WPA"
      },
      "execution_count": null,
      "outputs": []
    },
    {
      "cell_type": "code",
      "source": [
        "!cd example/grove && \\\n",
        "  make download"
      ],
      "metadata": {
        "id": "4J5Z4cwp-fne"
      },
      "execution_count": null,
      "outputs": []
    },
    {
      "cell_type": "code",
      "source": [
        "!${PYTHON_EXEC} -m pip install numpy requests colorama serial pyserial"
      ],
      "metadata": {
        "id": "SZ0UyC7HA1zH"
      },
      "execution_count": null,
      "outputs": []
    },
    {
      "cell_type": "markdown",
      "source": [
        "### Build Grove Vision AI Firmware Img"
      ],
      "metadata": {
        "id": "IGHvs_2n--gP"
      }
    },
    {
      "cell_type": "code",
      "source": [
        "!cd example/grove && \\\n",
        "  make HW=grove_vision_ai APP=meter"
      ],
      "metadata": {
        "id": "18TRCN-z-r3_"
      },
      "execution_count": null,
      "outputs": []
    },
    {
      "cell_type": "markdown",
      "source": [
        "### Convert Firmware Image to UF2"
      ],
      "metadata": {
        "id": "6ISXUUG2_uKY"
      }
    },
    {
      "cell_type": "code",
      "source": [
        "!cd example/grove && \\\n",
        "  ${PYTHON_EXEC} tools/ufconv/uf2conv.py \\\n",
        "    -t 0 \\\n",
        "    -c tools/image_gen_cstm/output/output.img \\\n",
        "    -o firmware.uf2"
      ],
      "metadata": {
        "id": "OJ5lwvPk_zhh"
      },
      "execution_count": null,
      "outputs": []
    },
    {
      "cell_type": "code",
      "source": [
        "!echo \"The UF2 firmware is located at: $(pwd)/example/grove/firmware.uf2\""
      ],
      "metadata": {
        "id": "i3effVeWCAhS"
      },
      "execution_count": null,
      "outputs": []
    },
    {
      "cell_type": "code",
      "source": [
        "from IPython.display import FileLink\n",
        "\n",
        "FileLink('example/grove/firmware.uf2')"
      ],
      "metadata": {
        "id": "TFC2hSiXCfM3"
      },
      "execution_count": null,
      "outputs": []
    },
    {
      "cell_type": "markdown",
      "source": [
        "### Convert Trained Model (TFLite) to UF2"
      ],
      "metadata": {
        "id": "2zrBJSg0FST3"
      }
    },
    {
      "cell_type": "code",
      "source": [
        "!cd example/grove && \\\n",
        "  ${PYTHON_EXEC} tools/ufconv/uf2conv.py \\\n",
        "    -t 1 \\\n",
        "    -c \"$(cat ../../work_dirs/pfld_mv2n_112/last_checkpoint)_int8.tflite\" \\\n",
        "    -o model.uf2"
      ],
      "metadata": {
        "id": "P4-YcaURF6K9"
      },
      "execution_count": null,
      "outputs": []
    },
    {
      "cell_type": "code",
      "source": [
        "!echo \"The UF2 model is located at: $(pwd)/example/grove/model.uf2\""
      ],
      "metadata": {
        "id": "lMqfOQteIEL5"
      },
      "execution_count": null,
      "outputs": []
    },
    {
      "cell_type": "code",
      "source": [
        "FileLink('example/grove/firmware.uf2')"
      ],
      "metadata": {
        "id": "B-___RClH92g"
      },
      "execution_count": null,
      "outputs": []
    },
    {
      "cell_type": "markdown",
      "source": [
        "Please download the UF2 Firmware and UF2 Model and flash them into a Grove Vision AI module. Finally, you can see the real-time meter reading results as shown in the figure below.\n",
        "\n",
        "![Meter Reader](https://seeed-studio.github.io/EdgeLab/static/grove/images/pfld_meter.gif)\n",
        "\n",
        "For more information on **how to use these UF2 images**, please refer to [EdgeLab Documentations - Deploy - Grove - Deployment Routines](https://seeed-studio.github.io/EdgeLab/examples/grove/deploy#deployment-routines)."
      ],
      "metadata": {
        "id": "_4cVSi76EsFg"
      }
    },
    {
      "cell_type": "markdown",
      "source": [
        "## Thanks for Trying Out EdgeLab 🎉\n",
        "\n",
        "Congratulations, you have completed this tutorial. If you are interested in more application scenarios or our projects, please feel free to give [EdgeLab](https://github.com/Seeed-Studio/EdgeLab) a star ✨ on GitHub.\n",
        "\n",
        "If you have any questions about this tutorial, please also feel free to [submit an issue](https://github.com/Seeed-Studio/EdgeLab/issues)."
      ],
      "metadata": {
        "id": "qasiYT2qJWPm"
      }
    }
  ],
  "metadata": {
    "accelerator": "GPU",
    "colab": {
      "provenance": [],
      "gpuType": "T4"
    },
    "gpuClass": "standard",
    "kernelspec": {
      "display_name": "Python 3",
      "name": "python3"
    },
    "language_info": {
      "name": "python"
    }
  },
  "nbformat": 4,
  "nbformat_minor": 0
}