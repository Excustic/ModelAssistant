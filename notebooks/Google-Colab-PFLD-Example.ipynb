{
  "cells": [
    {
      "attachments": {},
      "cell_type": "markdown",
      "metadata": {
        "id": "mNESTCLfvSrY"
      },
      "source": [
        "# Welcom to EdgeLab for Google Colab Training Example\n",
        "\n",
        "In this tutorial, we will demonstrate how to use EdgeLab and Colab to train a PFLD model for meter reading.\n",
        "\n",
        "For more details of PFLD model or application scenarios, please refer to [EdgeLab Documentation](https://seeed-studio.github.io/EdgeLab/)."
      ]
    },
    {
      "cell_type": "markdown",
      "metadata": {
        "id": "PRGi8-2jvxzR"
      },
      "source": [
        "## Setup EdgeLab"
      ]
    },
    {
      "cell_type": "code",
      "execution_count": null,
      "metadata": {
        "colab": {
          "base_uri": "https://localhost:8080/"
        },
        "id": "F5pMIwXuvPpG",
        "outputId": "a7fc34a4-3718-4d4b-b196-0355fd7721c5"
      },
      "outputs": [],
      "source": [
        "!git clone https://github.com/Unbinilium/EdgeLab.git -b 'lab2.0' # currently we're using experimental 2.0 version branch"
      ]
    },
    {
      "cell_type": "code",
      "execution_count": null,
      "metadata": {
        "colab": {
          "base_uri": "https://localhost:8080/"
        },
        "id": "-4H83YK8waNA",
        "outputId": "1e1dd9dd-42a0-4b5c-fb32-d5985935addc"
      },
      "outputs": [],
      "source": [
        "%cd /content/EdgeLab"
      ]
    },
    {
      "cell_type": "code",
      "execution_count": null,
      "metadata": {
        "colab": {
          "base_uri": "https://localhost:8080/"
        },
        "id": "STOKRHwXs70f",
        "outputId": "3381e394-1764-4a1e-fa07-3cdbecf57452"
      },
      "outputs": [],
      "source": [
        "%env PYTHON_VERSION=python3.8"
      ]
    },
    {
      "cell_type": "code",
      "execution_count": null,
      "metadata": {
        "colab": {
          "base_uri": "https://localhost:8080/"
        },
        "id": "xF4nReUbqbUA",
        "outputId": "70be09cb-c803-4318-cd3e-9d7413ade249"
      },
      "outputs": [],
      "source": [
        "!sudo apt-get update\n",
        "!sudo apt-get install ${PYTHON_VERSION}-dev python3-pip -y"
      ]
    },
    {
      "cell_type": "code",
      "execution_count": null,
      "metadata": {
        "colab": {
          "base_uri": "https://localhost:8080/"
        },
        "id": "k1HIXVgCzrCz",
        "outputId": "c9b7a464-5bb4-429a-95d7-eefbe37884df"
      },
      "outputs": [],
      "source": [
        "!chmod +x scripts/setup_colab.sh\n",
        "!scripts/setup_colab.sh $(which ${PYTHON_VERSION})"
      ]
    },
    {
      "cell_type": "markdown",
      "metadata": {
        "id": "v47-pxMe2DP1"
      },
      "source": [
        "## Download Custom Datasets"
      ]
    },
    {
      "cell_type": "code",
      "execution_count": null,
      "metadata": {
        "colab": {
          "base_uri": "https://localhost:8080/"
        },
        "id": "oSJZdF4l2JEe",
        "outputId": "18f4a6c8-1c8f-44ab-f7eb-d52e91142bd8"
      },
      "outputs": [],
      "source": [
        "!wget https://files.seeedstudio.com/wiki/Edgelab/meter.zip -P datasets/\n",
        "!unzip datasets/meter.zip -d datasets/"
      ]
    },
    {
      "cell_type": "markdown",
      "metadata": {
        "id": "2HMAOOWR2sf6"
      },
      "source": [
        "## Train the Model"
      ]
    },
    {
      "cell_type": "markdown",
      "metadata": {
        "id": "zmWPp53tcLpB"
      },
      "source": [
        "### Examine the PFLD config file\n",
        "\n",
        "The config we use for train is located at `configs/pfld/pfld_mv2n_112.py`."
      ]
    },
    {
      "cell_type": "markdown",
      "metadata": {
        "id": "Y9sSOwrZdaLo"
      },
      "source": [
        "### Train the model using default config\n",
        "\n",
        "Then, train PFLD model using default config, note here we need to override the config by 2 parameters:\n",
        "\n",
        "- `data_root` - the datasets path, which located at path `datasets/meter`\n",
        "\n",
        "- `epochs`- the train epochs, we use `50` to reduce the training time"
      ]
    },
    {
      "cell_type": "code",
      "execution_count": null,
      "metadata": {
        "colab": {
          "base_uri": "https://localhost:8080/"
        },
        "id": "zUgKXe2s2wto",
        "outputId": "21774175-1110-4825-8368-c992ff848215"
      },
      "outputs": [],
      "source": [
        "!${PYTHON_VERSION} tools/train.py pose configs/pfld/pfld_mv2n_112.py --cfg-options epochs=50 data_root='datasets/meter'"
      ]
    },
    {
      "cell_type": "markdown",
      "metadata": {
        "id": "5np32KYq8JL4"
      },
      "source": [
        "## Export PyTorch Model to TFLite"
      ]
    },
    {
      "cell_type": "markdown",
      "metadata": {
        "id": "fvxyRLo0giXI"
      },
      "source": [
        "### Get latest weights\n",
        "\n",
        "The training output of the default confing is located at path `work_dirs/pfld_mv2n_112`, before exporting the trained PFLD model to a TFLite model, we're suppose to find the latest weights."
      ]
    },
    {
      "cell_type": "code",
      "execution_count": null,
      "metadata": {
        "id": "EwddeW29gpKm"
      },
      "outputs": [],
      "source": [
        "import os\n",
        "import glob"
      ]
    },
    {
      "cell_type": "code",
      "execution_count": null,
      "metadata": {
        "colab": {
          "base_uri": "https://localhost:8080/"
        },
        "id": "MvxLT_kKhYk3",
        "outputId": "ed4f6aa2-4984-4bdd-c7c9-bfa4f2349e62"
      },
      "outputs": [],
      "source": [
        "folder_path = 'work_dirs/pfld_mv2n_112'\n",
        "\n",
        "pth_files = glob.glob(os.path.join(folder_path, '*.pth'))\n",
        "sorted_pths = sorted(pth_files, key=os.path.getmtime, reverse=True)\n",
        "latest_pth = sorted_pths[0]\n",
        "\n",
        "%env LATEST_PTH={latest_pth}"
      ]
    },
    {
      "attachments": {},
      "cell_type": "markdown",
      "metadata": {
        "id": "QF9ObhTrjwI2"
      },
      "source": [
        "### Export the latest PFLD weights to TFLite model\n",
        "\n",
        "Here we're using `tools/torch2tflite.py` to convert and export the latest weights to a TFLite model at a INT8 precision for inference."
      ]
    },
    {
      "cell_type": "code",
      "execution_count": null,
      "metadata": {
        "colab": {
          "base_uri": "https://localhost:8080/"
        },
        "id": "a50cBz7P8TP-",
        "outputId": "47d76a24-8bd7-4e2f-bf35-eaa7dfd85b13"
      },
      "outputs": [],
      "source": [
        "!${PYTHON_VERSION} tools/torch2tflite.py \\\n",
        "    configs/pfld/pfld_mv2n_112.py \\\n",
        "    --checkpoint ${LATEST_PTH} \\\n",
        "    --type int8"
      ]
    }
  ],
  "metadata": {
    "accelerator": "GPU",
    "colab": {
      "provenance": []
    },
    "gpuClass": "standard",
    "kernelspec": {
      "display_name": "Python 3",
      "name": "python3"
    },
    "language_info": {
      "name": "python"
    }
  },
  "nbformat": 4,
  "nbformat_minor": 0
}
